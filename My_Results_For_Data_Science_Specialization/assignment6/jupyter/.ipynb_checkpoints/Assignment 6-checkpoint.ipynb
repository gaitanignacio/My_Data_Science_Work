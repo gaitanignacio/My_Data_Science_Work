{
 "cells": [
  {
   "cell_type": "markdown",
   "metadata": {},
   "source": [
    "# Assignment 6 - Ignacio Gaitán\n",
    "*This is the answer for Assignment 6 of Data Science Specialization*\n",
    "## Crime Analytics Overview\n",
    "In this assignment, you will analyze criminal incident data from **Seattle** or **San Francisco** to visualize patterns and, if desired, contrast and compare patterns across the two cities.\n",
    "\n",
    "You will produce a *blog-post-style* visual narrative consisting of a series of visualizations interspersed with sufficient descriptive text to make a convincing argument.\n",
    "\n",
    "The assignment will be assessed by peer review. The rubric for assessment will include questions about the effectiveness and clarity of your argument, your use of visualization, and the completeness of your analysis. Reproducibility will also be considered, but will be evaluated subjectively -- peer reviewers will not be asked to recreate your results.\n",
    "\n",
    "### Some Ideas Where\n",
    "1.  For either city, how do incidents vary by time of day? Which incidents are most common in the evening? During what periods of the day are robberies most common?\n",
    "2. For either city, how do incidents vary by neighborhood? Which incidents are most common in the city center? In what areas or neighborhoods are robberies or thefts most common?\n",
    "3. For either city, how do incidents vary month to month in the Summer 2014 dataset?\n",
    "4. For either city, which incident types tend to correlate with each other on a day-by-day basis?\n",
    "5. **Advanced**  What can we infer broadly about the differences in crime patterns between Seattle and San Francisco? Does one city tend to have more crime than the other, per capita? Do the relative frequencies of types of incidents change materially between the two cities? (NOTE: The two datasets do not have the same schema, so comparisons will require some work and some assumptions. This will require extra work, but you will be working at the forefront of what is known!)"
   ]
  },
  {
   "cell_type": "markdown",
   "metadata": {},
   "source": []
  }
 ],
 "metadata": {
  "kernelspec": {
   "display_name": "Python 2",
   "language": "python",
   "name": "python2"
  },
  "language_info": {
   "codemirror_mode": {
    "name": "ipython",
    "version": 2
   },
   "file_extension": ".py",
   "mimetype": "text/x-python",
   "name": "python",
   "nbconvert_exporter": "python",
   "pygments_lexer": "ipython2",
   "version": "2.7.14"
  }
 },
 "nbformat": 4,
 "nbformat_minor": 2
}
