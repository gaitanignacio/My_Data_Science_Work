{
 "cells": [
  {
   "cell_type": "code",
   "execution_count": 5,
   "metadata": {},
   "outputs": [
    {
     "ename": "ERROR",
     "evalue": "Error in library(tree): there is no package called ‘tree’\n",
     "output_type": "error",
     "traceback": [
      "Error in library(tree): there is no package called ‘tree’\nTraceback:\n",
      "1. library(tree)",
      "2. stop(txt, domain = NA)"
     ]
    }
   ],
   "source": [
    "#install.packages(\"caret\", dependencies = TRUE)\n",
    "#install.packages(\"rpart\", dependencies = TRUE)\n",
    "#install.packages(\"tree\", dependencies = TRUE)\n",
    "#install.packages(\"randomForest\", dependencies = TRUE)\n",
    "#install.packages(\"e1071\", dependencies = TRUE)\n",
    "#install.packages(\"ggplot2\", dependencies = TRUE)\n",
    "\n",
    "#library(ggplot2)\n",
    "#library(randomForest)\n",
    "#library(e1071)\n",
    "#library(tree)\n",
    "#library(rpart)\n",
    "#library(caret)"
   ]
  },
  {
   "cell_type": "code",
   "execution_count": null,
   "metadata": {},
   "outputs": [],
   "source": [
    "datos <- read.csv(\"/home/user/datasci_course_materials/assignment5/seaflow_21min.csv\")\n",
    "View(datos)\n",
    "summary(datos)"
   ]
  },
  {
   "cell_type": "code",
   "execution_count": null,
   "metadata": {},
   "outputs": [],
   "source": [
    "smp_size<-floor(.5*nrow(datos))\n",
    "set.seed(123)"
   ]
  },
  {
   "cell_type": "code",
   "execution_count": null,
   "metadata": {},
   "outputs": [],
   "source": [
    "train_ind<-sample(seq_len(nrow(data)),size=smp_size)\n",
    "train<-data[train_ind, ]\n",
    "test<-data[-train_ind, ]\n",
    "ggplot(datos, aes(chl_small,pe)) + geom_point(aes(color=pop))"
   ]
  },
  {
   "cell_type": "code",
   "execution_count": null,
   "metadata": {},
   "outputs": [],
   "source": [
    "fol <- formula(pop ~ fsc_small + fsc_perp + fsc_big + pe + chl_big + chl_small)\n",
    "model <- rpart(fol, method=\"class\", data=train)\n",
    "print(model)"
   ]
  },
  {
   "cell_type": "code",
   "execution_count": null,
   "metadata": {},
   "outputs": [],
   "source": [
    "prediction <- predict(model,test,type = \"class\")\n",
    "result=test[,12]==as.character(prediction)\n",
    "accuracy=sum(result)/nrow(test)"
   ]
  },
  {
   "cell_type": "code",
   "execution_count": null,
   "metadata": {},
   "outputs": [],
   "source": [
    "modelrf <- randomForest(fol,train)\n",
    "prediction2 <- predict(modelrf,test,type = \"class\")\n",
    "result2=test[,12]==as.character(prediction2)\n",
    "accuracy2=sum(result2)/nrow(test)\n",
    "importance(modelrf)"
   ]
  },
  {
   "cell_type": "code",
   "execution_count": null,
   "metadata": {},
   "outputs": [],
   "source": [
    "modele1071 <- svm(fol, train)\n",
    "prediction3 <- predict(modele1071,test,type=\"class\")\n",
    "result3 <- test[,12]==as.character(prediction3)\n",
    "accuracy3=sum(result3)/nrow(test)"
   ]
  },
  {
   "cell_type": "code",
   "execution_count": null,
   "metadata": {},
   "outputs": [],
   "source": [
    "table(pred = prediction, true = test$pop)\n",
    "table(pred = prediction2, true = test$pop)\n",
    "table(pred = prediction3, true = test$pop)"
   ]
  },
  {
   "cell_type": "code",
   "execution_count": null,
   "metadata": {},
   "outputs": [],
   "source": [
    "#fsc_small, fsc_perp, fsc_big, pe, chl_small, chl_big\n",
    "ggplot(datos, aes(fsc_big,chl_big)) + geom_point(aes(color=pop))\n",
    "#The discontinuous fsc_big\n",
    "#Remove file_id 208\n",
    "ggplot(datos, aes(time,chl_big)) + geom_point(aes(color=pop))\n",
    "datos_subset <- subset(datos, file_id != 208)"
   ]
  },
  {
   "cell_type": "code",
   "execution_count": null,
   "metadata": {},
   "outputs": [],
   "source": [
    "train_ind_subset<-sample(seq_len(nrow(datos_subset)),size=smp_size)\n",
    "train_subset<-datos_subset[train_ind_subset, ]\n",
    "test_subset<-datos_subset[-train_ind_subset, ]\n",
    "modele1071_subset <- svm(fol, train_subset)\n",
    "prediction3_subset <- predict(modele1071_subset,test_subset,type=\"class\")\n",
    "result3_subset <- test_subset[,12]==as.character(prediction3_subset)\n",
    "accuracy3_subset=sum(result3_subset)/nrow(test_subset)\n",
    "accuracy3_subset-accuracy3"
   ]
  }
 ],
 "metadata": {
  "kernelspec": {
   "display_name": "R",
   "language": "R",
   "name": "ir"
  },
  "language_info": {
   "codemirror_mode": "r",
   "file_extension": ".r",
   "mimetype": "text/x-r-source",
   "name": "R",
   "pygments_lexer": "r",
   "version": "3.4.3"
  }
 },
 "nbformat": 4,
 "nbformat_minor": 2
}
